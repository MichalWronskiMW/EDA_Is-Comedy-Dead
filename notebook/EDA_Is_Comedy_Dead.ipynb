{
 "cells": [
  {
   "cell_type": "markdown",
   "id": "9e3b5f80-7733-4e3b-b1fd-c3749e8b8a71",
   "metadata": {},
   "source": [
    "# Is comedy dead? Rotten Tomatoes database EDA "
   ]
  },
  {
   "cell_type": "markdown",
   "id": "ebc733c5-0740-4733-8999-f56de90378f1",
   "metadata": {
    "tags": []
   },
   "source": [
    "## Introduction"
   ]
  },
  {
   "cell_type": "markdown",
   "id": "3cd9ec69-08fd-479d-9b00-1267d318628f",
   "metadata": {},
   "source": [
    "The main goal of this study is to determine whether people still enjoy comedy movies."
   ]
  },
  {
   "cell_type": "markdown",
   "id": "1c7e1a3f-d573-42c8-ab5f-5733cac73fcc",
   "metadata": {},
   "source": [
    "Questions to explore:\n",
    "\n",
    "1. How have audience ratings for comedy movies changed over the years?\n",
    "2. Are comedy movies rated higher or lower compared to other genres?\n",
    "3. Do critics and audiences rate comedy movies differently?\n",
    "4. Is the number of comedy releases in theaters and on streaming platforms decreasing?\n",
    "\n",
    "<i>To be done:<br>\n",
    "5. Which studios produce the highest-rated comedy movies?<br>\n",
    "6. Do longer comedy movies receive higher or lower ratings?</i>"
   ]
  },
  {
   "cell_type": "markdown",
   "id": "bbf60188-0dde-4262-b8a7-0c3ec9379496",
   "metadata": {},
   "source": [
    "Statistical methods Used:\n",
    "Descriptive Statistics, \n",
    "Shapiro-Wilk Test, \n",
    "Mann-Whitney U Test, \n",
    "Pearson Correlation<br>\n",
    "Data Visualization: \n",
    "Boxplots, scatterplot and histograms"
   ]
  },
  {
   "cell_type": "markdown",
   "id": "033e1c42-8252-4db6-8fbc-f61030c99c5f",
   "metadata": {},
   "source": [
    "## Exploratory Data Analysis"
   ]
  },
  {
   "cell_type": "markdown",
   "id": "0cbbfdac-0070-460f-b2ca-9771bcf68f8a",
   "metadata": {
    "tags": []
   },
   "source": [
    "### Importing libraries and data"
   ]
  },
  {
   "cell_type": "code",
   "execution_count": 7,
   "id": "b94cfb85-8b95-41a4-9982-9d20998f9949",
   "metadata": {},
   "outputs": [],
   "source": [
    "import numpy as np\n",
    "import pandas as pd\n",
    "import matplotlib.pyplot as plt\n",
    "import seaborn as sns\n",
    "import sys\n",
    "from statsmodels.stats.weightstats import ttest_ind\n",
    "from scipy.stats import pearsonr\n",
    "import scipy.stats as stats"
   ]
  },
  {
   "cell_type": "code",
   "execution_count": 13,
   "id": "e43530e7-c463-4745-88cf-1cbf2183e52d",
   "metadata": {},
   "outputs": [],
   "source": [
    "sys.path.append('../data')\n",
    "df = pd.read_csv(r'../data/rotten_tomatoes_movies_db.csv')"
   ]
  },
  {
   "cell_type": "markdown",
   "id": "2023876e-8444-40c3-a613-8371307b6085",
   "metadata": {
    "tags": []
   },
   "source": [
    "### Data cleaning"
   ]
  },
  {
   "cell_type": "code",
   "execution_count": 3,
   "id": "0a605d92-f642-4a3e-8106-d82c6ad1231c",
   "metadata": {},
   "outputs": [],
   "source": [
    "df['rating'] = df['rating'].str.replace('R)', 'R')\n",
    "df['rating'] = df['rating'].str.replace('PG-13)', 'PG-13')\n",
    "\n",
    "df['in_theaters_date'] = pd.to_datetime(df['in_theaters_date'])\n",
    "df['on_streaming_date   '] = pd.to_datetime(df['on_streaming_date'])"
   ]
  },
  {
   "cell_type": "markdown",
   "id": "c1067c9a-80ff-4f1c-9e57-ea699ae1d75a",
   "metadata": {
    "jp-MarkdownHeadingCollapsed": true,
    "tags": []
   },
   "source": [
    "### Basic data exploration"
   ]
  },
  {
   "cell_type": "code",
   "execution_count": 4,
   "id": "adf2903d-f68a-44d2-afc8-54d41d36436d",
   "metadata": {
    "tags": []
   },
   "outputs": [
    {
     "data": {
      "text/html": [
       "<div>\n",
       "<style scoped>\n",
       "    .dataframe tbody tr th:only-of-type {\n",
       "        vertical-align: middle;\n",
       "    }\n",
       "\n",
       "    .dataframe tbody tr th {\n",
       "        vertical-align: top;\n",
       "    }\n",
       "\n",
       "    .dataframe thead th {\n",
       "        text-align: right;\n",
       "    }\n",
       "</style>\n",
       "<table border=\"1\" class=\"dataframe\">\n",
       "  <thead>\n",
       "    <tr style=\"text-align: right;\">\n",
       "      <th></th>\n",
       "      <th>movie_title</th>\n",
       "      <th>movie_info</th>\n",
       "      <th>critics_consensus</th>\n",
       "      <th>rating</th>\n",
       "      <th>genre</th>\n",
       "      <th>directors</th>\n",
       "      <th>writers</th>\n",
       "      <th>cast</th>\n",
       "      <th>in_theaters_date</th>\n",
       "      <th>on_streaming_date</th>\n",
       "      <th>runtime_in_minutes</th>\n",
       "      <th>studio_name</th>\n",
       "      <th>tomatometer_status</th>\n",
       "      <th>tomatometer_rating</th>\n",
       "      <th>tomatometer_count</th>\n",
       "      <th>audience_rating</th>\n",
       "      <th>audience_count</th>\n",
       "      <th>on_streaming_date</th>\n",
       "    </tr>\n",
       "  </thead>\n",
       "  <tbody>\n",
       "    <tr>\n",
       "      <th>2384</th>\n",
       "      <td>Ali G Indahouse</td>\n",
       "      <td>Britain's satirist-of-all-trades Ali G (aka Sa...</td>\n",
       "      <td>NaN</td>\n",
       "      <td>R</td>\n",
       "      <td>Comedy</td>\n",
       "      <td>Mark Mylod</td>\n",
       "      <td>Sacha Baron Cohen, Dan Mazer</td>\n",
       "      <td>Sacha Baron Cohen, Michael Gambon, Charles Dan...</td>\n",
       "      <td>2004-11-02</td>\n",
       "      <td>2004-11-02</td>\n",
       "      <td>88.0</td>\n",
       "      <td>Universal Pictures</td>\n",
       "      <td>Rotten</td>\n",
       "      <td>56</td>\n",
       "      <td>16</td>\n",
       "      <td>54.0</td>\n",
       "      <td>87904.0</td>\n",
       "      <td>2004-11-02</td>\n",
       "    </tr>\n",
       "    <tr>\n",
       "      <th>3075</th>\n",
       "      <td>Bat 21</td>\n",
       "      <td>A military strategist's aircraft is shot down ...</td>\n",
       "      <td>NaN</td>\n",
       "      <td>R</td>\n",
       "      <td>Action &amp; Adventure, Drama</td>\n",
       "      <td>Peter Markle</td>\n",
       "      <td>William C. Anderson, Marc Norman, Peter Markle...</td>\n",
       "      <td>Gene Hackman, Danny Glover, Jerry Reed, David ...</td>\n",
       "      <td>1988-10-21</td>\n",
       "      <td>2000-12-19</td>\n",
       "      <td>105.0</td>\n",
       "      <td>Media Home Entertainment</td>\n",
       "      <td>Fresh</td>\n",
       "      <td>81</td>\n",
       "      <td>16</td>\n",
       "      <td>58.0</td>\n",
       "      <td>8375.0</td>\n",
       "      <td>2000-12-19</td>\n",
       "    </tr>\n",
       "    <tr>\n",
       "      <th>1010</th>\n",
       "      <td>Mad Love</td>\n",
       "      <td>A lonely teenager thinks that he's found love,...</td>\n",
       "      <td>Mad Love tries to juggle mental illness with m...</td>\n",
       "      <td>PG-13</td>\n",
       "      <td>Drama, Romance</td>\n",
       "      <td>Antonia Bird</td>\n",
       "      <td>Paula Milne</td>\n",
       "      <td>Chris O'Donnell, Drew Barrymore, Matthew Lilla...</td>\n",
       "      <td>1995-05-26</td>\n",
       "      <td>2000-01-18</td>\n",
       "      <td>105.0</td>\n",
       "      <td>Buena Vista</td>\n",
       "      <td>Rotten</td>\n",
       "      <td>28</td>\n",
       "      <td>25</td>\n",
       "      <td>49.0</td>\n",
       "      <td>19977.0</td>\n",
       "      <td>2000-01-18</td>\n",
       "    </tr>\n",
       "    <tr>\n",
       "      <th>10601</th>\n",
       "      <td>Number Seventeen (Number 17)</td>\n",
       "      <td>John Stuart is blown into a derelict building ...</td>\n",
       "      <td>NaN</td>\n",
       "      <td>NR</td>\n",
       "      <td>Classics, Comedy, Drama, Mystery &amp; Suspense</td>\n",
       "      <td>Alfred Hitchcock</td>\n",
       "      <td>Alfred Hitchcock, Alma Reville, Rodney Ackland</td>\n",
       "      <td>Leon M. Lion, Anne Grey, John Stuart, Donald C...</td>\n",
       "      <td>1932-01-01</td>\n",
       "      <td>1998-07-28</td>\n",
       "      <td>64.0</td>\n",
       "      <td>British International Pictures</td>\n",
       "      <td>Rotten</td>\n",
       "      <td>57</td>\n",
       "      <td>7</td>\n",
       "      <td>23.0</td>\n",
       "      <td>1632.0</td>\n",
       "      <td>1998-07-28</td>\n",
       "    </tr>\n",
       "    <tr>\n",
       "      <th>3139</th>\n",
       "      <td>Beaches</td>\n",
       "      <td>Based on a novel by Iris Rainer Dart, Beaches ...</td>\n",
       "      <td>NaN</td>\n",
       "      <td>PG-13</td>\n",
       "      <td>Comedy, Drama, Musical &amp; Performing Arts</td>\n",
       "      <td>Garry Marshall</td>\n",
       "      <td>Mary Agnes Donoghue</td>\n",
       "      <td>Bette Midler, Barbara Hershey, John Heard, Spa...</td>\n",
       "      <td>1988-12-21</td>\n",
       "      <td>2005-03-29</td>\n",
       "      <td>123.0</td>\n",
       "      <td>Disney</td>\n",
       "      <td>Rotten</td>\n",
       "      <td>39</td>\n",
       "      <td>41</td>\n",
       "      <td>88.0</td>\n",
       "      <td>71187.0</td>\n",
       "      <td>2005-03-29</td>\n",
       "    </tr>\n",
       "  </tbody>\n",
       "</table>\n",
       "</div>"
      ],
      "text/plain": [
       "                        movie_title  \\\n",
       "2384                Ali G Indahouse   \n",
       "3075                         Bat 21   \n",
       "1010                       Mad Love   \n",
       "10601  Number Seventeen (Number 17)   \n",
       "3139                        Beaches   \n",
       "\n",
       "                                              movie_info  \\\n",
       "2384   Britain's satirist-of-all-trades Ali G (aka Sa...   \n",
       "3075   A military strategist's aircraft is shot down ...   \n",
       "1010   A lonely teenager thinks that he's found love,...   \n",
       "10601  John Stuart is blown into a derelict building ...   \n",
       "3139   Based on a novel by Iris Rainer Dart, Beaches ...   \n",
       "\n",
       "                                       critics_consensus rating  \\\n",
       "2384                                                 NaN      R   \n",
       "3075                                                 NaN      R   \n",
       "1010   Mad Love tries to juggle mental illness with m...  PG-13   \n",
       "10601                                                NaN     NR   \n",
       "3139                                                 NaN  PG-13   \n",
       "\n",
       "                                             genre         directors  \\\n",
       "2384                                        Comedy        Mark Mylod   \n",
       "3075                     Action & Adventure, Drama      Peter Markle   \n",
       "1010                                Drama, Romance      Antonia Bird   \n",
       "10601  Classics, Comedy, Drama, Mystery & Suspense  Alfred Hitchcock   \n",
       "3139      Comedy, Drama, Musical & Performing Arts    Garry Marshall   \n",
       "\n",
       "                                                 writers  \\\n",
       "2384                        Sacha Baron Cohen, Dan Mazer   \n",
       "3075   William C. Anderson, Marc Norman, Peter Markle...   \n",
       "1010                                         Paula Milne   \n",
       "10601     Alfred Hitchcock, Alma Reville, Rodney Ackland   \n",
       "3139                                 Mary Agnes Donoghue   \n",
       "\n",
       "                                                    cast in_theaters_date  \\\n",
       "2384   Sacha Baron Cohen, Michael Gambon, Charles Dan...       2004-11-02   \n",
       "3075   Gene Hackman, Danny Glover, Jerry Reed, David ...       1988-10-21   \n",
       "1010   Chris O'Donnell, Drew Barrymore, Matthew Lilla...       1995-05-26   \n",
       "10601  Leon M. Lion, Anne Grey, John Stuart, Donald C...       1932-01-01   \n",
       "3139   Bette Midler, Barbara Hershey, John Heard, Spa...       1988-12-21   \n",
       "\n",
       "      on_streaming_date  runtime_in_minutes                     studio_name  \\\n",
       "2384         2004-11-02                88.0              Universal Pictures   \n",
       "3075         2000-12-19               105.0        Media Home Entertainment   \n",
       "1010         2000-01-18               105.0                     Buena Vista   \n",
       "10601        1998-07-28                64.0  British International Pictures   \n",
       "3139         2005-03-29               123.0                          Disney   \n",
       "\n",
       "      tomatometer_status  tomatometer_rating  tomatometer_count  \\\n",
       "2384              Rotten                  56                 16   \n",
       "3075               Fresh                  81                 16   \n",
       "1010              Rotten                  28                 25   \n",
       "10601             Rotten                  57                  7   \n",
       "3139              Rotten                  39                 41   \n",
       "\n",
       "       audience_rating  audience_count on_streaming_date     \n",
       "2384              54.0         87904.0           2004-11-02  \n",
       "3075              58.0          8375.0           2000-12-19  \n",
       "1010              49.0         19977.0           2000-01-18  \n",
       "10601             23.0          1632.0           1998-07-28  \n",
       "3139              88.0         71187.0           2005-03-29  "
      ]
     },
     "execution_count": 4,
     "metadata": {},
     "output_type": "execute_result"
    }
   ],
   "source": [
    "df.sample(5)"
   ]
  },
  {
   "cell_type": "code",
   "execution_count": 5,
   "id": "009b6fa4-3bec-4496-a48e-71d8c9e427c3",
   "metadata": {},
   "outputs": [
    {
     "name": "stdout",
     "output_type": "stream",
     "text": [
      "<class 'pandas.core.frame.DataFrame'>\n",
      "RangeIndex: 16638 entries, 0 to 16637\n",
      "Data columns (total 18 columns):\n",
      " #   Column                Non-Null Count  Dtype         \n",
      "---  ------                --------------  -----         \n",
      " 0   movie_title           16638 non-null  object        \n",
      " 1   movie_info            16614 non-null  object        \n",
      " 2   critics_consensus     8309 non-null   object        \n",
      " 3   rating                16638 non-null  object        \n",
      " 4   genre                 16621 non-null  object        \n",
      " 5   directors             16524 non-null  object        \n",
      " 6   writers               15289 non-null  object        \n",
      " 7   cast                  16354 non-null  object        \n",
      " 8   in_theaters_date      15823 non-null  datetime64[ns]\n",
      " 9   on_streaming_date     16636 non-null  object        \n",
      " 10  runtime_in_minutes    16483 non-null  float64       \n",
      " 11  studio_name           16222 non-null  object        \n",
      " 12  tomatometer_status    16638 non-null  object        \n",
      " 13  tomatometer_rating    16638 non-null  int64         \n",
      " 14  tomatometer_count     16638 non-null  int64         \n",
      " 15  audience_rating       16386 non-null  float64       \n",
      " 16  audience_count        16386 non-null  float64       \n",
      " 17  on_streaming_date     16636 non-null  datetime64[ns]\n",
      "dtypes: datetime64[ns](2), float64(3), int64(2), object(11)\n",
      "memory usage: 2.3+ MB\n"
     ]
    }
   ],
   "source": [
    "df.info()"
   ]
  },
  {
   "cell_type": "markdown",
   "id": "195dbf95-9e8d-4a51-b75c-72d22eeaddda",
   "metadata": {
    "tags": []
   },
   "source": [
    "### Descriptive statistics for numerical data"
   ]
  },
  {
   "cell_type": "markdown",
   "id": "c0d5e449-ceab-41fd-b522-2fad2c92be79",
   "metadata": {},
   "source": [
    "I am only considering movies with more than 100,000 audience ratings to ensure data reliability and reduce noise from less popular films. Movies with very few ratings might not accurately reflect audience sentiment."
   ]
  },
  {
   "cell_type": "code",
   "execution_count": 6,
   "id": "04fad001-534c-4c96-ab2d-6156759b4abb",
   "metadata": {},
   "outputs": [],
   "source": [
    "df = df[df['audience_count'] >= 100000]"
   ]
  },
  {
   "cell_type": "code",
   "execution_count": 7,
   "id": "d3d5e69d-82a1-4bcf-9113-03791836df10",
   "metadata": {},
   "outputs": [
    {
     "data": {
      "text/html": [
       "<div>\n",
       "<style scoped>\n",
       "    .dataframe tbody tr th:only-of-type {\n",
       "        vertical-align: middle;\n",
       "    }\n",
       "\n",
       "    .dataframe tbody tr th {\n",
       "        vertical-align: top;\n",
       "    }\n",
       "\n",
       "    .dataframe thead th {\n",
       "        text-align: right;\n",
       "    }\n",
       "</style>\n",
       "<table border=\"1\" class=\"dataframe\">\n",
       "  <thead>\n",
       "    <tr style=\"text-align: right;\">\n",
       "      <th></th>\n",
       "      <th>runtime_in_minutes</th>\n",
       "      <th>tomatometer_rating</th>\n",
       "      <th>tomatometer_count</th>\n",
       "      <th>audience_rating</th>\n",
       "      <th>audience_count</th>\n",
       "    </tr>\n",
       "  </thead>\n",
       "  <tbody>\n",
       "    <tr>\n",
       "      <th>count</th>\n",
       "      <td>1934.000000</td>\n",
       "      <td>1934.000000</td>\n",
       "      <td>1934.000000</td>\n",
       "      <td>1934.000000</td>\n",
       "      <td>1.934000e+03</td>\n",
       "    </tr>\n",
       "    <tr>\n",
       "      <th>mean</th>\n",
       "      <td>109.702172</td>\n",
       "      <td>56.816960</td>\n",
       "      <td>137.985522</td>\n",
       "      <td>65.634436</td>\n",
       "      <td>1.200525e+06</td>\n",
       "    </tr>\n",
       "    <tr>\n",
       "      <th>std</th>\n",
       "      <td>20.770772</td>\n",
       "      <td>27.083699</td>\n",
       "      <td>76.475375</td>\n",
       "      <td>18.743684</td>\n",
       "      <td>5.172878e+06</td>\n",
       "    </tr>\n",
       "    <tr>\n",
       "      <th>min</th>\n",
       "      <td>2.000000</td>\n",
       "      <td>0.000000</td>\n",
       "      <td>5.000000</td>\n",
       "      <td>16.000000</td>\n",
       "      <td>1.003720e+05</td>\n",
       "    </tr>\n",
       "    <tr>\n",
       "      <th>25%</th>\n",
       "      <td>95.000000</td>\n",
       "      <td>34.000000</td>\n",
       "      <td>74.000000</td>\n",
       "      <td>52.000000</td>\n",
       "      <td>1.740745e+05</td>\n",
       "    </tr>\n",
       "    <tr>\n",
       "      <th>50%</th>\n",
       "      <td>106.000000</td>\n",
       "      <td>58.000000</td>\n",
       "      <td>133.500000</td>\n",
       "      <td>67.000000</td>\n",
       "      <td>2.701710e+05</td>\n",
       "    </tr>\n",
       "    <tr>\n",
       "      <th>75%</th>\n",
       "      <td>120.000000</td>\n",
       "      <td>81.000000</td>\n",
       "      <td>189.000000</td>\n",
       "      <td>81.750000</td>\n",
       "      <td>4.481585e+05</td>\n",
       "    </tr>\n",
       "    <tr>\n",
       "      <th>max</th>\n",
       "      <td>222.000000</td>\n",
       "      <td>100.000000</td>\n",
       "      <td>454.000000</td>\n",
       "      <td>98.000000</td>\n",
       "      <td>3.579764e+07</td>\n",
       "    </tr>\n",
       "  </tbody>\n",
       "</table>\n",
       "</div>"
      ],
      "text/plain": [
       "       runtime_in_minutes  tomatometer_rating  tomatometer_count  \\\n",
       "count         1934.000000         1934.000000        1934.000000   \n",
       "mean           109.702172           56.816960         137.985522   \n",
       "std             20.770772           27.083699          76.475375   \n",
       "min              2.000000            0.000000           5.000000   \n",
       "25%             95.000000           34.000000          74.000000   \n",
       "50%            106.000000           58.000000         133.500000   \n",
       "75%            120.000000           81.000000         189.000000   \n",
       "max            222.000000          100.000000         454.000000   \n",
       "\n",
       "       audience_rating  audience_count  \n",
       "count      1934.000000    1.934000e+03  \n",
       "mean         65.634436    1.200525e+06  \n",
       "std          18.743684    5.172878e+06  \n",
       "min          16.000000    1.003720e+05  \n",
       "25%          52.000000    1.740745e+05  \n",
       "50%          67.000000    2.701710e+05  \n",
       "75%          81.750000    4.481585e+05  \n",
       "max          98.000000    3.579764e+07  "
      ]
     },
     "execution_count": 7,
     "metadata": {},
     "output_type": "execute_result"
    }
   ],
   "source": [
    "df.describe(include=[np.number])"
   ]
  },
  {
   "cell_type": "code",
   "execution_count": 8,
   "id": "37b6d197-113c-4b07-b9e8-ce1431523101",
   "metadata": {},
   "outputs": [
    {
     "data": {
      "text/html": [
       "<div>\n",
       "<style scoped>\n",
       "    .dataframe tbody tr th:only-of-type {\n",
       "        vertical-align: middle;\n",
       "    }\n",
       "\n",
       "    .dataframe tbody tr th {\n",
       "        vertical-align: top;\n",
       "    }\n",
       "\n",
       "    .dataframe thead th {\n",
       "        text-align: right;\n",
       "    }\n",
       "</style>\n",
       "<table border=\"1\" class=\"dataframe\">\n",
       "  <thead>\n",
       "    <tr style=\"text-align: right;\">\n",
       "      <th></th>\n",
       "      <th>runtime_in_minutes</th>\n",
       "      <th>tomatometer_rating</th>\n",
       "      <th>tomatometer_count</th>\n",
       "      <th>audience_rating</th>\n",
       "      <th>audience_count</th>\n",
       "    </tr>\n",
       "  </thead>\n",
       "  <tbody>\n",
       "    <tr>\n",
       "      <th>runtime_in_minutes</th>\n",
       "      <td>1.000000</td>\n",
       "      <td>0.284444</td>\n",
       "      <td>0.338456</td>\n",
       "      <td>0.339766</td>\n",
       "      <td>0.091935</td>\n",
       "    </tr>\n",
       "    <tr>\n",
       "      <th>tomatometer_rating</th>\n",
       "      <td>0.284444</td>\n",
       "      <td>1.000000</td>\n",
       "      <td>0.232548</td>\n",
       "      <td>0.738962</td>\n",
       "      <td>0.077489</td>\n",
       "    </tr>\n",
       "    <tr>\n",
       "      <th>tomatometer_count</th>\n",
       "      <td>0.338456</td>\n",
       "      <td>0.232548</td>\n",
       "      <td>1.000000</td>\n",
       "      <td>0.137532</td>\n",
       "      <td>0.091901</td>\n",
       "    </tr>\n",
       "    <tr>\n",
       "      <th>audience_rating</th>\n",
       "      <td>0.339766</td>\n",
       "      <td>0.738962</td>\n",
       "      <td>0.137532</td>\n",
       "      <td>1.000000</td>\n",
       "      <td>0.008716</td>\n",
       "    </tr>\n",
       "    <tr>\n",
       "      <th>audience_count</th>\n",
       "      <td>0.091935</td>\n",
       "      <td>0.077489</td>\n",
       "      <td>0.091901</td>\n",
       "      <td>0.008716</td>\n",
       "      <td>1.000000</td>\n",
       "    </tr>\n",
       "  </tbody>\n",
       "</table>\n",
       "</div>"
      ],
      "text/plain": [
       "                    runtime_in_minutes  tomatometer_rating  tomatometer_count  \\\n",
       "runtime_in_minutes            1.000000            0.284444           0.338456   \n",
       "tomatometer_rating            0.284444            1.000000           0.232548   \n",
       "tomatometer_count             0.338456            0.232548           1.000000   \n",
       "audience_rating               0.339766            0.738962           0.137532   \n",
       "audience_count                0.091935            0.077489           0.091901   \n",
       "\n",
       "                    audience_rating  audience_count  \n",
       "runtime_in_minutes         0.339766        0.091935  \n",
       "tomatometer_rating         0.738962        0.077489  \n",
       "tomatometer_count          0.137532        0.091901  \n",
       "audience_rating            1.000000        0.008716  \n",
       "audience_count             0.008716        1.000000  "
      ]
     },
     "execution_count": 8,
     "metadata": {},
     "output_type": "execute_result"
    }
   ],
   "source": [
    "df.corr(numeric_only=True)"
   ]
  },
  {
   "cell_type": "markdown",
   "id": "36bf87c6-0949-4380-8b9c-00b7d5a147d5",
   "metadata": {},
   "source": [
    "## Questions"
   ]
  },
  {
   "cell_type": "markdown",
   "id": "b20249bb-bd63-4681-b1a7-696f75fa367c",
   "metadata": {
    "tags": []
   },
   "source": [
    "### Question 1: How have audience ratings for comedy movies changed over the years?"
   ]
  },
  {
   "cell_type": "code",
   "execution_count": 9,
   "id": "bfd2cf82-b0a7-4295-a71e-c9a11728d029",
   "metadata": {},
   "outputs": [
    {
     "name": "stdout",
     "output_type": "stream",
     "text": [
      "There are 1934 comedies in the dataset.\n"
     ]
    }
   ],
   "source": [
    "df['is_comedy'] = np.where(df['genre'].str.contains('Comedy'), 1, 0)\n",
    "df['in_theaters_year'] = pd.to_datetime(df['in_theaters_date'], errors='coerce').dt.year\n",
    "\n",
    "print(f\"There are {len(df['is_comedy'])} comedies in the dataset.\")"
   ]
  },
  {
   "cell_type": "code",
   "execution_count": 10,
   "id": "3b5bcfec-c05b-4824-a961-0f9383ffa420",
   "metadata": {},
   "outputs": [],
   "source": [
    "audience_ratings = df.groupby('in_theaters_year')[['audience_rating']].mean()"
   ]
  },
  {
   "cell_type": "code",
   "execution_count": 11,
   "id": "b359f33e-7de3-4d68-8d49-314930106075",
   "metadata": {},
   "outputs": [
    {
     "data": {
      "image/png": "[encoded data removed]",
      "text/plain": [
       "<Figure size 720x360 with 1 Axes>"
      ]
     },
     "metadata": {
      "needs_background": "light"
     },
     "output_type": "display_data"
    }
   ],
   "source": [
    "plt.figure(figsize=(10, 5))\n",
    "plt.plot(audience_ratings.index, audience_ratings.values, marker='o', color='navy', linestyle='-', label='Average Audience Rating')\n",
    "\n",
    "plt.title('Audience Ratings for Comedy Movies Over the Years')\n",
    "plt.xlabel('Year')\n",
    "plt.ylim(0)\n",
    "plt.ylabel('Average Audience Rating')\n",
    "\n",
    "plt.legend()\n",
    "plt.show()"
   ]
  },
  {
   "cell_type": "markdown",
   "id": "2af48e72-b7c7-4569-958c-02893580bc17",
   "metadata": {},
   "source": [
    "<i><b>Answer: Yes, movie ratings have changed over the years. The average ratings declined from the 1970s until the late 2000s, when they started to rise again.</b></i>"
   ]
  },
  {
   "cell_type": "markdown",
   "id": "ef5ba430-a9aa-46b3-9aee-d952b4b4eb8d",
   "metadata": {
    "tags": []
   },
   "source": [
    "### Question 2: Are comedy movies rated higher or lower compared to other genres?"
   ]
  },
  {
   "cell_type": "code",
   "execution_count": 12,
   "id": "e8e0cd48-a99d-4036-bd66-ebe745c50abe",
   "metadata": {},
   "outputs": [
    {
     "data": {
      "text/html": [
       "<div>\n",
       "<style scoped>\n",
       "    .dataframe tbody tr th:only-of-type {\n",
       "        vertical-align: middle;\n",
       "    }\n",
       "\n",
       "    .dataframe tbody tr th {\n",
       "        vertical-align: top;\n",
       "    }\n",
       "\n",
       "    .dataframe thead th {\n",
       "        text-align: right;\n",
       "    }\n",
       "</style>\n",
       "<table border=\"1\" class=\"dataframe\">\n",
       "  <thead>\n",
       "    <tr style=\"text-align: right;\">\n",
       "      <th></th>\n",
       "      <th>audience_rating</th>\n",
       "      <th>tomatometer_rating</th>\n",
       "    </tr>\n",
       "    <tr>\n",
       "      <th>is_comedy</th>\n",
       "      <th></th>\n",
       "      <th></th>\n",
       "    </tr>\n",
       "  </thead>\n",
       "  <tbody>\n",
       "    <tr>\n",
       "      <th>Non-Comedy</th>\n",
       "      <td>67.534884</td>\n",
       "      <td>59.747764</td>\n",
       "    </tr>\n",
       "    <tr>\n",
       "      <th>Comedy</th>\n",
       "      <td>63.030637</td>\n",
       "      <td>52.801471</td>\n",
       "    </tr>\n",
       "  </tbody>\n",
       "</table>\n",
       "</div>"
      ],
      "text/plain": [
       "            audience_rating  tomatometer_rating\n",
       "is_comedy                                      \n",
       "Non-Comedy        67.534884           59.747764\n",
       "Comedy            63.030637           52.801471"
      ]
     },
     "execution_count": 12,
     "metadata": {},
     "output_type": "execute_result"
    }
   ],
   "source": [
    "rating_summary = df.groupby('is_comedy')[['audience_rating', 'tomatometer_rating']].mean().rename(index={0: 'Non-Comedy', 1: 'Comedy'})\n",
    "rating_summary"
   ]
  },
  {
   "cell_type": "code",
   "execution_count": 13,
   "id": "fce1c166-28ba-4321-a82c-5facdd081634",
   "metadata": {},
   "outputs": [],
   "source": [
    "comedy_audience_ratings = df[df['is_comedy'] == 1]['audience_rating'].dropna()\n",
    "non_comedy_audience_ratings = df[df['is_comedy'] == 0]['audience_rating'].dropna()\n",
    "\n",
    "comedy_critics_ratings = df[df['is_comedy'] == 1]['tomatometer_rating'].dropna()\n",
    "non_comedy_critics_ratings = df[df['is_comedy'] == 0]['tomatometer_rating'].dropna()"
   ]
  },
  {
   "cell_type": "code",
   "execution_count": 14,
   "id": "cf1bb867-e3d0-40a1-a009-fc8aa2e597ee",
   "metadata": {},
   "outputs": [
    {
     "data": {
      "image/png": "[encoded data removed]",
      "text/plain": [
       "<Figure size 576x864 with 2 Axes>"
      ]
     },
     "metadata": {
      "needs_background": "light"
     },
     "output_type": "display_data"
    }
   ],
   "source": [
    "plt.figure(figsize=(8,12))\n",
    "\n",
    "plt.subplot(2,1,1)\n",
    "plt.boxplot([comedy_audience_ratings, non_comedy_audience_ratings], vert=True, patch_artist=True, \n",
    "            boxprops=dict(facecolor=\"navy\", linewidth=2), widths=0.6)  # Szersze boxploty\n",
    "plt.xticks([1, 2], [\"Comedy\", \"Non-Comedy\"], fontsize=12)\n",
    "plt.ylabel(\"Audience Rating\", fontsize=14)\n",
    "plt.title(\"Audience Ratings: Comedy vs Non-Comedy\", fontsize=18)\n",
    "plt.ylim(0, max(comedy_audience_ratings.max(), non_comedy_audience_ratings.max()) * 1.1)  # Osie OY od zera\n",
    "\n",
    "plt.subplot(2,1,2)\n",
    "plt.boxplot([comedy_critics_ratings, non_comedy_critics_ratings], vert=True, patch_artist=True, \n",
    "            boxprops=dict(facecolor=\"navy\", linewidth=2), widths=0.6)  # Szersze boxploty\n",
    "plt.xticks([1, 2], [\"Comedy\", \"Non-Comedy\"], fontsize=12)\n",
    "plt.ylabel(\"Critics Rating\", fontsize=14)\n",
    "plt.title(\"Critics Ratings: Comedy vs Non-Comedy\", fontsize=18)\n",
    "plt.ylim(0, max(comedy_critics_ratings.max(), non_comedy_critics_ratings.max()) * 1.1)  # Osie OY od zera\n",
    "\n",
    "plt.tight_layout(pad=3)\n",
    "plt.show()"
   ]
  },
  {
   "cell_type": "markdown",
   "id": "3feac36e-9aca-4657-b2a9-ac994ab1ab4e",
   "metadata": {
    "tags": []
   },
   "source": [
    "To determine whether the ratings of comedy and non-comedy movies differ statistically, a two-sample mean test should be conducted. However, to choose the appropriate test, it is essential to first check for normality of distributions (Shapiro-Wilk test) and heteroskedasticity."
   ]
  },
  {
   "cell_type": "code",
   "execution_count": 15,
   "id": "ce31bfda-c9d3-4b5f-94d9-a4402d3dae3d",
   "metadata": {
    "tags": []
   },
   "outputs": [
    {
     "name": "stdout",
     "output_type": "stream",
     "text": [
      "Shapiro-Wilk Test for Normality:\n",
      "Comedy Audience Ratings: p = 1.8384466581624359e-10\n",
      "Non-Comedy Audience Ratings: p = 4.642756247656809e-18\n",
      "Comedy Critics Ratings: p = 4.25098052184368e-15\n",
      "Non-Comedy Critics Ratings: p = 6.434681791032066e-20\n",
      "\n"
     ]
    }
   ],
   "source": [
    "shapiro_comedy_audience = stats.shapiro(comedy_audience_ratings)\n",
    "shapiro_non_comedy_audience = stats.shapiro(non_comedy_audience_ratings)\n",
    "\n",
    "shapiro_comedy_critics = stats.shapiro(comedy_critics_ratings)\n",
    "shapiro_non_comedy_critics = stats.shapiro(non_comedy_critics_ratings)\n",
    "\n",
    "print(\"Shapiro-Wilk Test for Normality:\")\n",
    "print(f\"Comedy Audience Ratings: p = {shapiro_comedy_audience.pvalue}\")\n",
    "print(f\"Non-Comedy Audience Ratings: p = {shapiro_non_comedy_audience.pvalue}\")\n",
    "print(f\"Comedy Critics Ratings: p = {shapiro_comedy_critics.pvalue}\")\n",
    "print(f\"Non-Comedy Critics Ratings: p = {shapiro_non_comedy_critics.pvalue}\\n\")"
   ]
  },
  {
   "cell_type": "markdown",
   "id": "c21f9eda-b6a9-4186-89ae-d0ef5318882c",
   "metadata": {
    "tags": []
   },
   "source": [
    "Shapiro-Wilk test results indicate that all p-values are extremely small (< 0.05), meaning we reject the null hypothesis that the data is normally distributed. This suggests that none of the rating distributions are normal.\n",
    "There is no further point in checking heteroskedasticity, as the Mann-Whitney test will be used."
   ]
  },
  {
   "cell_type": "code",
   "execution_count": 16,
   "id": "b4d4ba62-54a1-449c-aecb-ec3e9cdca838",
   "metadata": {},
   "outputs": [
    {
     "name": "stdout",
     "output_type": "stream",
     "text": [
      "Mann-Whitney U test for Audience Ratings: U = 386195.5, p = 8.025736325754553e-09\n",
      "Mann-Whitney U test for Critics Ratings: U = 388497.5, p = 2.43688403130755e-08\n"
     ]
    }
   ],
   "source": [
    "# Mann-Whitney U test for audience ratings\n",
    "u_stat_audience, p_audience = stats.mannwhitneyu(comedy_audience_ratings, non_comedy_audience_ratings, alternative='two-sided')\n",
    "\n",
    "# Mann-Whitney U test for critics ratings\n",
    "u_stat_critics, p_critics = stats.mannwhitneyu(comedy_critics_ratings, non_comedy_critics_ratings, alternative='two-sided')\n",
    "\n",
    "print(f\"Mann-Whitney U test for Audience Ratings: U = {u_stat_audience}, p = {p_audience}\")\n",
    "print(f\"Mann-Whitney U test for Critics Ratings: U = {u_stat_critics}, p = {p_critics}\")"
   ]
  },
  {
   "cell_type": "markdown",
   "id": "1cb6ccfe-5e23-44cd-b15e-1df12007fdb6",
   "metadata": {},
   "source": [
    "<i><b>Answer: The results of the Mann-Whitney U test show a significant difference in audience ratings between comedy and non-comedy films (U = 386,195.5, p < 0.001), as well as in critics' ratings (U = 388,497.5, p < 0.001). Since the p-values are well below the 0.05 threshold, we reject the null hypothesis, indicating that comedy and non-comedy films are rated differently by both audiences and critics. However, this test does not determine which genre receives higher ratings, only that their distributions differ.</b></i>"
   ]
  },
  {
   "cell_type": "markdown",
   "id": "fa30538e-c10b-46db-942e-e56c611a4418",
   "metadata": {
    "tags": []
   },
   "source": [
    "### Question 3: Do critics and audiences rate comedy movies differently?"
   ]
  },
  {
   "cell_type": "code",
   "execution_count": 17,
   "id": "e00414d8-ee18-46c6-bbbe-b1d0de98f449",
   "metadata": {},
   "outputs": [
    {
     "data": {
      "text/plain": [
       "<Figure size 720x432 with 0 Axes>"
      ]
     },
     "metadata": {},
     "output_type": "display_data"
    },
    {
     "data": {
      "image/png": "[encoded data removed]",
      "text/plain": [
       "<Figure size 720x720 with 2 Axes>"
      ]
     },
     "metadata": {
      "needs_background": "light"
     },
     "output_type": "display_data"
    }
   ],
   "source": [
    "plt.figure(figsize=(10, 6))\n",
    "\n",
    "fig, axes = plt.subplots(2, 1, figsize=(10, 10), sharex=True)\n",
    "\n",
    "sns.histplot(comedy_audience_ratings, bins=20, color='navy', label='Audience Rating', alpha=1, ax=axes[0])\n",
    "axes[0].set_title('Audience Ratings for Comedy Movies', fontsize=14)\n",
    "axes[0].set_ylabel('Count', fontsize=12)\n",
    "\n",
    "sns.histplot(comedy_critics_ratings, bins=20, color='orange', label='Critics Rating', alpha=0.5, ax=axes[1])\n",
    "axes[1].set_title('Critics Ratings for Comedy Movies', fontsize=14)\n",
    "axes[1].set_xlabel('Rating', fontsize=12)\n",
    "axes[1].set_ylabel('Count', fontsize=12)\n",
    "\n",
    "plt.tight_layout()\n",
    "plt.show()"
   ]
  },
  {
   "cell_type": "markdown",
   "id": "218cefc7-2204-4eaa-973f-ac3843af8d9b",
   "metadata": {},
   "source": [
    "Since we already know that both audience ratings and critics ratings do not follow a normal distribution, we need to use a non-parametric test. \n",
    "Given that we are comparing two dependent (paired) groups – audience ratings and critics ratings for the same movies – the appropriate test is the Wilcoxon Signed-Rank Test. \n",
    "This test evaluates whether there is a significant difference between the two related distributions without assuming normality."
   ]
  },
  {
   "cell_type": "code",
   "execution_count": 18,
   "id": "86f1a386-5692-4e99-977c-7f56cc678b9b",
   "metadata": {},
   "outputs": [
    {
     "name": "stdout",
     "output_type": "stream",
     "text": [
      "Wilcoxon Signed-Rank Test: W = 75533.0, p = 1.4244661412057102e-38\n"
     ]
    }
   ],
   "source": [
    "wilcoxon_test = stats.wilcoxon(comedy_audience_ratings, comedy_critics_ratings)\n",
    "print(f\"Wilcoxon Signed-Rank Test: W = {wilcoxon_test.statistic}, p = {wilcoxon_test.pvalue}\")"
   ]
  },
  {
   "cell_type": "markdown",
   "id": "811dfdbe-fe15-4553-9631-9b31a58ce011",
   "metadata": {},
   "source": [
    "Since the p-value is far below 0.05, we reject the null hypothesis. This means that there is a statistically significant difference between audience ratings and critics ratings for comedy movies."
   ]
  },
  {
   "cell_type": "markdown",
   "id": "d98c61b2-d385-4d19-a492-c1749ae617d5",
   "metadata": {},
   "source": [
    "Despite the statistical differences between the ratings, a correlation between them may still exist. \n",
    "Due to the non-normality of the distributions, Spearman's rank correlation will be applied as it does not assume a linear relationship or normality, making it more suitable for the given data."
   ]
  },
  {
   "cell_type": "code",
   "execution_count": 19,
   "id": "6c338f48-dcd1-4641-a0d7-34a5c39d051a",
   "metadata": {},
   "outputs": [
    {
     "data": {
      "image/png": "[encoded data removed]",
      "text/plain": [
       "<Figure size 576x432 with 1 Axes>"
      ]
     },
     "metadata": {
      "needs_background": "light"
     },
     "output_type": "display_data"
    }
   ],
   "source": [
    "plt.figure(figsize=(8,6))\n",
    "\n",
    "plt.scatter(comedy_audience_ratings, comedy_critics_ratings, color=\"navy\", alpha=0.6)\n",
    "plt.xlabel(\"Audience Ratings\", fontsize=14)\n",
    "plt.ylabel(\"Critics Ratings\", fontsize=14)\n",
    "plt.title(\"Scatterplot: Audience vs Critics Ratings for Comedy Movies\", fontsize=16)\n",
    "plt.grid(True, linestyle=\"--\", alpha=0.5)\n",
    "\n",
    "plt.show()"
   ]
  },
  {
   "cell_type": "code",
   "execution_count": 20,
   "id": "a7a40344-5a99-4f3a-bdd0-9f225210bb63",
   "metadata": {},
   "outputs": [
    {
     "name": "stdout",
     "output_type": "stream",
     "text": [
      "Pearson Correlation Coefficient: 0.703\n",
      "P-value: 1.843e-122\n"
     ]
    }
   ],
   "source": [
    "pearson_corr, p_value = pearsonr(comedy_audience_ratings, comedy_critics_ratings)\n",
    "\n",
    "print(f\"Pearson Correlation Coefficient: {pearson_corr:.3f}\")\n",
    "print(f\"P-value: {p_value:.3e}\")"
   ]
  },
  {
   "cell_type": "markdown",
   "id": "19065d01-51bf-4fc1-8d5e-7d76d4cd2eae",
   "metadata": {},
   "source": [
    "The Pearson correlation coefficient (ρ = 0.709) indicates a strong positive correlation between audience ratings and critics ratings for comedy movies. This suggests that, in general, higher audience ratings tend to be associated with higher critics ratings."
   ]
  },
  {
   "cell_type": "markdown",
   "id": "b24cd085-18de-4b36-9038-fefbbceeea8b",
   "metadata": {},
   "source": [
    "<i><b>Answer:\n",
    "The analysis shows that audience ratings and critics ratings for comedy movies differ statistically. This means that, on average, audiences and critics rate comedy movies differently.\n",
    "However, the Pearson correlation coefficient indicates a strong positive relationship between the two rating systems. This suggests that while there is a systematic difference in the way audiences and critics rate comedy movies, their scores still tend to follow a similar pattern.</i></b>"
   ]
  },
  {
   "cell_type": "markdown",
   "id": "96ad9c2e-efae-4f59-8874-0ed57effa4c8",
   "metadata": {},
   "source": [
    "### Question 4: Is the number of comedy releases in theaters and on streaming platforms decreasing?"
   ]
  },
  {
   "cell_type": "code",
   "execution_count": 34,
   "id": "1cb479d9-0f10-48f2-97da-ebe320f9c03c",
   "metadata": {},
   "outputs": [],
   "source": [
    "df['on_streaming_year'] = pd.to_datetime(df['on_streaming_date']).dt.year"
   ]
  },
  {
   "cell_type": "code",
   "execution_count": 39,
   "id": "4463dfd8-10b1-4f15-9eab-784946ec1dab",
   "metadata": {},
   "outputs": [],
   "source": [
    "comedies = df[df['is_comedy'] == 1]"
   ]
  },
  {
   "cell_type": "code",
   "execution_count": 40,
   "id": "26a8cb52-edf9-4d25-993c-a9d1ad501385",
   "metadata": {},
   "outputs": [],
   "source": [
    "comedies_theater_per_year = comedies.groupby('in_theaters_year')[['in_theaters_year']].count()\n",
    "comedies_streaming_per_year = comedies.groupby('on_streaming_year')[['on_streaming_year']].count()"
   ]
  },
  {
   "cell_type": "code",
   "execution_count": 47,
   "id": "4de26f6a-75e2-446d-87f2-c583bd969c14",
   "metadata": {},
   "outputs": [
    {
     "data": {
      "image/png": "[encoded data removed]",
      "text/plain": [
       "<Figure size 864x432 with 1 Axes>"
      ]
     },
     "metadata": {
      "needs_background": "light"
     },
     "output_type": "display_data"
    }
   ],
   "source": [
    "plt.figure(figsize=(12, 6))\n",
    "\n",
    "plt.plot(comedies_theater_per_year.index, comedies_theater_per_year.values, marker='o', linestyle='-', color='navy', label='Comedy Movies Released in Theaters')\n",
    "plt.plot(comedies_streaming_per_year.index, comedies_streaming_per_year.values, marker='s', linestyle='-', color='green', label='Comedy Movies Released on Streaming')\n",
    "\n",
    "plt.xlabel(\"Year\", fontsize=12)\n",
    "plt.ylabel(\"Number of Comedy Movies\", fontsize=12)\n",
    "plt.title(\"Trend of Comedy Movie Releases in Theaters and on Streaming\", fontsize=14)\n",
    "\n",
    "plt.legend()\n",
    "\n",
    "plt.show()"
   ]
  },
  {
   "cell_type": "markdown",
   "id": "963d62a0-a9ac-405c-8f76-955da8e362e3",
   "metadata": {},
   "source": [
    "<i><b>Answer:\n",
    "Comedies experienced their peak in the 2000s. During this time, streaming platforms emerged, leading to more comedy films being released on streaming services than in theaters. However, after 2010, the number of comedy films released dropped significantly, and this negative trend has continued up until the last recorded year in the dataset, 2017.</i></b>"
   ]
  },
  {
   "cell_type": "code",
   "execution_count": null,
   "id": "78b6e25e-40c2-424c-bc88-76196a3d64b0",
   "metadata": {},
   "outputs": [],
   "source": []
  }
 ],
 "metadata": {
  "kernelspec": {
   "display_name": "Python [conda env:base] *",
   "language": "python",
   "name": "conda-base-py"
  },
  "language_info": {
   "codemirror_mode": {
    "name": "ipython",
    "version": 3
   },
   "file_extension": ".py",
   "mimetype": "text/x-python",
   "name": "python",
   "nbconvert_exporter": "python",
   "pygments_lexer": "ipython3",
   "version": "3.12.7"
  }
 },
 "nbformat": 4,
 "nbformat_minor": 5
}
